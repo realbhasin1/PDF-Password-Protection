{
  "nbformat": 4,
  "nbformat_minor": 0,
  "metadata": {
    "colab": {
      "name": "PDF Password Protection using Python.ipynb",
      "provenance": []
    },
    "kernelspec": {
      "name": "python3",
      "display_name": "Python 3"
    }
  },
  "cells": [
    {
      "cell_type": "code",
      "metadata": {
        "colab": {
          "base_uri": "https://localhost:8080/"
        },
        "id": "rU7A1q6hpLtP",
        "outputId": "918cffbe-d64f-41a7-98f7-1cf6129b5747"
      },
      "source": [
        "!pip install PyPDF2"
      ],
      "execution_count": null,
      "outputs": [
        {
          "output_type": "stream",
          "text": [
            "Collecting PyPDF2\n",
            "\u001b[?25l  Downloading https://files.pythonhosted.org/packages/b4/01/68fcc0d43daf4c6bdbc6b33cc3f77bda531c86b174cac56ef0ffdb96faab/PyPDF2-1.26.0.tar.gz (77kB)\n",
            "\r\u001b[K     |████▎                           | 10kB 19.2MB/s eta 0:00:01\r\u001b[K     |████████▌                       | 20kB 19.1MB/s eta 0:00:01\r\u001b[K     |████████████▊                   | 30kB 12.3MB/s eta 0:00:01\r\u001b[K     |█████████████████               | 40kB 12.7MB/s eta 0:00:01\r\u001b[K     |█████████████████████▏          | 51kB 14.9MB/s eta 0:00:01\r\u001b[K     |█████████████████████████▍      | 61kB 13.0MB/s eta 0:00:01\r\u001b[K     |█████████████████████████████▋  | 71kB 13.7MB/s eta 0:00:01\r\u001b[K     |████████████████████████████████| 81kB 4.8MB/s \n",
            "\u001b[?25hBuilding wheels for collected packages: PyPDF2\n",
            "  Building wheel for PyPDF2 (setup.py) ... \u001b[?25l\u001b[?25hdone\n",
            "  Created wheel for PyPDF2: filename=PyPDF2-1.26.0-cp36-none-any.whl size=61087 sha256=a37aa89549a07ccfe8a363c098192b301d2cc9be44bd83420a271f9779f79819\n",
            "  Stored in directory: /root/.cache/pip/wheels/53/84/19/35bc977c8bf5f0c23a8a011aa958acd4da4bbd7a229315c1b7\n",
            "Successfully built PyPDF2\n",
            "Installing collected packages: PyPDF2\n",
            "Successfully installed PyPDF2-1.26.0\n"
          ],
          "name": "stdout"
        }
      ]
    },
    {
      "cell_type": "code",
      "metadata": {
        "id": "09IPkt6XpeNx"
      },
      "source": [
        "from PyPDF2 import PdfFileReader, PdfFileWriter"
      ],
      "execution_count": null,
      "outputs": []
    },
    {
      "cell_type": "code",
      "metadata": {
        "id": "t7Zef-ETpmMi"
      },
      "source": [
        "# Opening the pdf file \n",
        "file_pdf = PdfFileReader('/content/Satellite.pdf')\n",
        "\n",
        "# Object for pdf writer \n",
        "out_pdf = PdfFileWriter()"
      ],
      "execution_count": null,
      "outputs": []
    },
    {
      "cell_type": "code",
      "metadata": {
        "colab": {
          "base_uri": "https://localhost:8080/"
        },
        "id": "vHDBNqRMqkS-",
        "outputId": "ce3b13f7-0058-43e1-b237-d04b7ee49dd6"
      },
      "source": [
        "file_pdf"
      ],
      "execution_count": null,
      "outputs": [
        {
          "output_type": "execute_result",
          "data": {
            "text/plain": [
              "<PyPDF2.pdf.PdfFileReader at 0x7f0d41d06320>"
            ]
          },
          "metadata": {
            "tags": []
          },
          "execution_count": 5
        }
      ]
    },
    {
      "cell_type": "code",
      "metadata": {
        "colab": {
          "base_uri": "https://localhost:8080/"
        },
        "id": "SFG87P06qn0G",
        "outputId": "6794b7af-647b-4fff-c215-c20e7187b78c"
      },
      "source": [
        "file_pdf.numPages # will get the number of pages in PDF"
      ],
      "execution_count": null,
      "outputs": [
        {
          "output_type": "execute_result",
          "data": {
            "text/plain": [
              "31"
            ]
          },
          "metadata": {
            "tags": []
          },
          "execution_count": 6
        }
      ]
    },
    {
      "cell_type": "code",
      "metadata": {
        "id": "giUxHdLVqv69"
      },
      "source": [
        "for i in range(file_pdf.numPages):\n",
        "  page_details = file_pdf.getPage(i)\n",
        "  # Adding page to the output page\n",
        "  out_pdf.addPage(page_details)"
      ],
      "execution_count": null,
      "outputs": []
    },
    {
      "cell_type": "code",
      "metadata": {
        "id": "J0bfmXeRrZp7"
      },
      "source": [
        "password = \"Nishit@123\"\n",
        "\n",
        "out_pdf.encrypt(password)"
      ],
      "execution_count": null,
      "outputs": []
    },
    {
      "cell_type": "code",
      "metadata": {
        "id": "G2ZtosCsrpdq"
      },
      "source": [
        "with open(\"satellitedocuments.pdf\", \"wb\") as filename:\n",
        "  out_pdf.write(filename)"
      ],
      "execution_count": null,
      "outputs": []
    }
  ]
}